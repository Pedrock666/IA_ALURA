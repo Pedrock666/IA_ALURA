{
  "nbformat": 4,
  "nbformat_minor": 0,
  "metadata": {
    "colab": {
      "provenance": [],
      "authorship_tag": "ABX9TyORqjtTL7IRDcL1IjbYvfAv",
      "include_colab_link": true
    },
    "kernelspec": {
      "name": "python3",
      "display_name": "Python 3"
    },
    "language_info": {
      "name": "python"
    }
  },
  "cells": [
    {
      "cell_type": "markdown",
      "metadata": {
        "id": "view-in-github",
        "colab_type": "text"
      },
      "source": [
        "<a href=\"https://colab.research.google.com/github/Pedrock666/IA_ALURA/blob/main/Analizador_de_humor_de_clientes_1.0.ipynb\" target=\"_parent\"><img src=\"https://colab.research.google.com/assets/colab-badge.svg\" alt=\"Open In Colab\"/></a>"
      ]
    },
    {
      "cell_type": "code",
      "source": [
        "# Instalando o SDK do Google\n",
        "!pip install -q -U google-generativeai\n",
        "\n",
        "# Configurações iniciais\n",
        "import google.generativeai as genai\n",
        "\n",
        "GOOGLE_API_KEY = \"COLOQUE SUA API KEY\"  # Substitua pela sua API Key\n",
        "genai.configure(api_key=GOOGLE_API_KEY)\n",
        "\n",
        "# Criando o modelo Gemini\n",
        "model = genai.GenerativeModel(model_name='gemini-1.0-pro')\n",
        "\n",
        "# Função para analisar a satisfação do consumidor\n",
        "def analisar_satisfacao_consumidor(texto):\n",
        "    prompt = f'Analise o seguinte texto e indique se o consumidor está satisfeito, insatisfeito ou indiferente:\\n```\\n{texto}\\n```'\n",
        "    response = model.generate_content(prompt)\n",
        "    return response.text.strip()\n",
        "\n",
        "# Loop principal do programa\n",
        "satisfeitos = 0\n",
        "insatisfeitos = 0\n",
        "indiferentes = 0\n",
        "\n",
        "while True:\n",
        "    texto = input(\n",
        "        \"Texto do consumidor (digite 'sair' para obter o relatório): \"\n",
        "    )\n",
        "    if texto.lower() == \"sair\":\n",
        "        break\n",
        "\n",
        "    satisfacao = analisar_satisfacao_consumidor(texto)\n",
        "    print(f\"Satisfação: {satisfacao}\\n\")\n",
        "\n",
        "    if satisfacao == \"Satisfeito\":\n",
        "        satisfeitos += 1\n",
        "    elif satisfacao == \"Insatisfeito\":\n",
        "        insatisfeitos += 1\n",
        "    else:\n",
        "        indiferentes += 1\n",
        "\n",
        "# Relatório final\n",
        "total_consumidores = satisfeitos + insatisfeitos + indiferentes\n",
        "if total_consumidores > 0:\n",
        "    indice_satisfacao = (satisfeitos / total_consumidores) * 100\n",
        "else:\n",
        "    indice_satisfacao = 0\n",
        "\n",
        "print(\"\\n=== Relatório Final ===\")\n",
        "print(f\"Total de Consumidores: {total_consumidores}\")\n",
        "print(f\"Satisfeitos: {satisfeitos}\")\n",
        "print(f\"Insatisfeitos: {insatisfeitos}\")\n",
        "print(f\"Indiferentes: {indiferentes}\")\n",
        "print(f\"Índice de Satisfação Geral: {indice_satisfacao:.2f}%\")"
      ],
      "metadata": {
        "id": "JHUaJWTSXq_h"
      },
      "execution_count": null,
      "outputs": []
    }
  ]
}