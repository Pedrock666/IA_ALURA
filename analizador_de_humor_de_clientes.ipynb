{
  "nbformat": 4,
  "nbformat_minor": 0,
  "metadata": {
    "colab": {
      "provenance": [],
      "authorship_tag": "ABX9TyNbx1EcZBbps5YIV/hyhRt7",
      "include_colab_link": true
    },
    "kernelspec": {
      "name": "python3",
      "display_name": "Python 3"
    },
    "language_info": {
      "name": "python"
    }
  },
  "cells": [
    {
      "cell_type": "markdown",
      "metadata": {
        "id": "view-in-github",
        "colab_type": "text"
      },
      "source": [
        "<a href=\"https://colab.research.google.com/github/Pedrock666/IA_ALURA/blob/main/analizador_de_humor_de_clientes.ipynb\" target=\"_parent\"><img src=\"https://colab.research.google.com/assets/colab-badge.svg\" alt=\"Open In Colab\"/></a>"
      ]
    },
    {
      "cell_type": "code",
      "source": [
        "# Instalando o SDK do Google\n",
        "!pip install -q -U google-generativeai\n",
        "\n",
        "# Configurações iniciais\n",
        "import google.generativeai as genai\n",
        "\n",
        "GOOGLE_API_KEY = \"COLE SUA API KEY\"  # Substitua pela sua API Key\n",
        "genai.configure(api_key=GOOGLE_API_KEY)\n",
        "\n",
        "# Criando o modelo Gemini (sem listar os modelos disponíveis)\n",
        "model = genai.GenerativeModel(model_name='gemini-1.0-pro')\n",
        "\n",
        "# Função para analisar a satisfação do consumidor\n",
        "def analisar_satisfacao_consumidor(texto):\n",
        "    prompt = f'Analise o seguinte texto e indique se o consumidor está satisfeito, insatisfeito ou indiferente:\\n```\\n{texto}\\n```'\n",
        "    response = model.generate_content(prompt)\n",
        "    return response.text.strip()\n",
        "\n",
        "# Loop principal do programa\n",
        "while True:\n",
        "    texto = input(\n",
        "        \"Texto do consumidor ('sair' para terminar): \"\n",
        "    )\n",
        "    if texto.lower() == \"sair\":\n",
        "        break\n",
        "\n",
        "    satisfacao = analisar_satisfacao_consumidor(texto)\n",
        "    print(f\"Satisfação: {satisfacao}\\n\")"
      ],
      "metadata": {
        "colab": {
          "base_uri": "https://localhost:8080/",
          "height": 810
        },
        "id": "tqBD0fxyzedE",
        "outputId": "1fdb89a7-20a8-4766-b5cb-7b5c66cf2e94"
      },
      "execution_count": null,
      "outputs": [
        {
          "output_type": "stream",
          "name": "stdout",
          "text": [
            "Texto do consumidor ('sair' para terminar): que droga\n",
            "Satisfação: Insatisfeito\n",
            "\n",
            "Texto do consumidor ('sair' para terminar): me liguem\n",
            "Satisfação: Indiferente\n",
            "\n",
            "Texto do consumidor ('sair' para terminar): gostei muito do seu produto\n",
            "Satisfação: Satisfeito\n",
            "\n",
            "Texto do consumidor ('sair' para terminar): gostei do produto, mas tenho duvidas\n",
            "Satisfação: O consumidor está insatisfeito.\n",
            "\n",
            "Texto do consumidor ('sair' para terminar): quero comprar novamente, porém não entendi o manual\n",
            "Satisfação: Insatisfeito\n",
            "\n",
            "Texto do consumidor ('sair' para terminar): amei seu produto\n",
            "Satisfação: Satisfeito\n",
            "\n",
            "Texto do consumidor ('sair' para terminar): Gostaria que o ifood possa descongelar minha conta para liberar meu acesso para eu fazer entregas . pois eu fiquei mais de 180 dias sem logar pois estava me recuperando de um problema pessoal e agora eu tentando voltar a vida ao normal e também ao trabalho,tentei retornar as entregas e apareceu que minha conta esta congelada,por isso peco que me ajudem,desde ja agradeço\n",
            "Satisfação: Insatisfeito\n",
            "\n",
            "Texto do consumidor ('sair' para terminar): A funcionária é muito atenciosa, parabéns\n",
            "Satisfação: Satisfeito\n",
            "\n"
          ]
        },
        {
          "output_type": "error",
          "ename": "KeyboardInterrupt",
          "evalue": "Interrupted by user",
          "traceback": [
            "\u001b[0;31m---------------------------------------------------------------------------\u001b[0m",
            "\u001b[0;31mKeyboardInterrupt\u001b[0m                         Traceback (most recent call last)",
            "\u001b[0;32m<ipython-input-24-f739b7738e58>\u001b[0m in \u001b[0;36m<cell line: 20>\u001b[0;34m()\u001b[0m\n\u001b[1;32m     19\u001b[0m \u001b[0;31m# Loop principal do programa\u001b[0m\u001b[0;34m\u001b[0m\u001b[0;34m\u001b[0m\u001b[0m\n\u001b[1;32m     20\u001b[0m \u001b[0;32mwhile\u001b[0m \u001b[0;32mTrue\u001b[0m\u001b[0;34m:\u001b[0m\u001b[0;34m\u001b[0m\u001b[0;34m\u001b[0m\u001b[0m\n\u001b[0;32m---> 21\u001b[0;31m     texto = input(\n\u001b[0m\u001b[1;32m     22\u001b[0m         \u001b[0;34m\"Texto do consumidor ('sair' para terminar): \"\u001b[0m  \u001b[0;31m# Mensagem mais curta\u001b[0m\u001b[0;34m\u001b[0m\u001b[0;34m\u001b[0m\u001b[0m\n\u001b[1;32m     23\u001b[0m     )\n",
            "\u001b[0;32m/usr/local/lib/python3.10/dist-packages/ipykernel/kernelbase.py\u001b[0m in \u001b[0;36mraw_input\u001b[0;34m(self, prompt)\u001b[0m\n\u001b[1;32m    849\u001b[0m                 \u001b[0;34m\"raw_input was called, but this frontend does not support input requests.\"\u001b[0m\u001b[0;34m\u001b[0m\u001b[0;34m\u001b[0m\u001b[0m\n\u001b[1;32m    850\u001b[0m             )\n\u001b[0;32m--> 851\u001b[0;31m         return self._input_request(str(prompt),\n\u001b[0m\u001b[1;32m    852\u001b[0m             \u001b[0mself\u001b[0m\u001b[0;34m.\u001b[0m\u001b[0m_parent_ident\u001b[0m\u001b[0;34m,\u001b[0m\u001b[0;34m\u001b[0m\u001b[0;34m\u001b[0m\u001b[0m\n\u001b[1;32m    853\u001b[0m             \u001b[0mself\u001b[0m\u001b[0;34m.\u001b[0m\u001b[0m_parent_header\u001b[0m\u001b[0;34m,\u001b[0m\u001b[0;34m\u001b[0m\u001b[0;34m\u001b[0m\u001b[0m\n",
            "\u001b[0;32m/usr/local/lib/python3.10/dist-packages/ipykernel/kernelbase.py\u001b[0m in \u001b[0;36m_input_request\u001b[0;34m(self, prompt, ident, parent, password)\u001b[0m\n\u001b[1;32m    893\u001b[0m             \u001b[0;32mexcept\u001b[0m \u001b[0mKeyboardInterrupt\u001b[0m\u001b[0;34m:\u001b[0m\u001b[0;34m\u001b[0m\u001b[0;34m\u001b[0m\u001b[0m\n\u001b[1;32m    894\u001b[0m                 \u001b[0;31m# re-raise KeyboardInterrupt, to truncate traceback\u001b[0m\u001b[0;34m\u001b[0m\u001b[0;34m\u001b[0m\u001b[0m\n\u001b[0;32m--> 895\u001b[0;31m                 \u001b[0;32mraise\u001b[0m \u001b[0mKeyboardInterrupt\u001b[0m\u001b[0;34m(\u001b[0m\u001b[0;34m\"Interrupted by user\"\u001b[0m\u001b[0;34m)\u001b[0m \u001b[0;32mfrom\u001b[0m \u001b[0;32mNone\u001b[0m\u001b[0;34m\u001b[0m\u001b[0;34m\u001b[0m\u001b[0m\n\u001b[0m\u001b[1;32m    896\u001b[0m             \u001b[0;32mexcept\u001b[0m \u001b[0mException\u001b[0m \u001b[0;32mas\u001b[0m \u001b[0me\u001b[0m\u001b[0;34m:\u001b[0m\u001b[0;34m\u001b[0m\u001b[0;34m\u001b[0m\u001b[0m\n\u001b[1;32m    897\u001b[0m                 \u001b[0mself\u001b[0m\u001b[0;34m.\u001b[0m\u001b[0mlog\u001b[0m\u001b[0;34m.\u001b[0m\u001b[0mwarning\u001b[0m\u001b[0;34m(\u001b[0m\u001b[0;34m\"Invalid Message:\"\u001b[0m\u001b[0;34m,\u001b[0m \u001b[0mexc_info\u001b[0m\u001b[0;34m=\u001b[0m\u001b[0;32mTrue\u001b[0m\u001b[0;34m)\u001b[0m\u001b[0;34m\u001b[0m\u001b[0;34m\u001b[0m\u001b[0m\n",
            "\u001b[0;31mKeyboardInterrupt\u001b[0m: Interrupted by user"
          ]
        },
        {
          "name": "stdout",
          "output_type": "stream",
          "text": [
            "Texto do consumidor ('sair' para terminar): sair\n"
          ]
        }
      ]
    }
  ]
}