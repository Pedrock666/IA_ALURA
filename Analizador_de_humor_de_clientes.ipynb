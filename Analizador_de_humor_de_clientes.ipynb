{
  "nbformat": 4,
  "nbformat_minor": 0,
  "metadata": {
    "colab": {
      "provenance": [],
      "authorship_tag": "ABX9TyM9B7sgtLcPq+maliFd94Y8",
      "include_colab_link": true
    },
    "kernelspec": {
      "name": "python3",
      "display_name": "Python 3"
    },
    "language_info": {
      "name": "python"
    }
  },
  "cells": [
    {
      "cell_type": "markdown",
      "metadata": {
        "id": "view-in-github",
        "colab_type": "text"
      },
      "source": [
        "<a href=\"https://colab.research.google.com/github/Pedrock666/IA_ALURA/blob/main/Analizador_de_humor_de_clientes.ipynb\" target=\"_parent\"><img src=\"https://colab.research.google.com/assets/colab-badge.svg\" alt=\"Open In Colab\"/></a>"
      ]
    },
    {
      "cell_type": "code",
      "source": [
        "# Instalando o SDK do Google\n",
        "!pip install -q -U google-generativeai\n",
        "\n",
        "# Configurações iniciais\n",
        "import google.generativeai as genai\n",
        "\n",
        "GOOGLE_API_KEY = \"COLOQUE SUA API KEY\"  # Substitua pela sua API Key\n",
        "genai.configure(api_key=GOOGLE_API_KEY)\n",
        "\n",
        "# Criando o modelo Gemini\n",
        "model = genai.GenerativeModel(model_name='gemini-1.0-pro')\n",
        "\n",
        "# Função para analisar a satisfação do consumidor\n",
        "def analisar_satisfacao_consumidor(texto):\n",
        "    prompt = f'Analise o seguinte texto e indique se o consumidor está satisfeito, insatisfeito ou indiferente:\\n```\\n{texto}\\n```'\n",
        "    response = model.generate_content(prompt)\n",
        "    return response.text.strip()\n",
        "\n",
        "# Loop principal do programa\n",
        "while True:\n",
        "    texto = input(\n",
        "        \"Texto do consumidor ('sair' para terminar): \"\n",
        "    )\n",
        "    if texto.lower() == \"sair\":\n",
        "        break\n",
        "\n",
        "    satisfacao = analisar_satisfacao_consumidor(texto)\n",
        "    print(f\"Satisfação: {satisfacao}\\n\")"
      ],
      "metadata": {
        "colab": {
          "base_uri": "https://localhost:8080/",
          "height": 159
        },
        "id": "tqBD0fxyzedE",
        "outputId": "768b3388-236c-48bc-db42-4ec4ea65856b"
      },
      "execution_count": 1,
      "outputs": [
        {
          "name": "stdout",
          "output_type": "stream",
          "text": [
            "Texto do consumidor ('sair' para terminar): Gostei muito\n",
            "Satisfação: Satisfeito\n",
            "\n",
            "Texto do consumidor ('sair' para terminar): Tenho conta no ifood a muito tempo , ontem fiz um pedido e fui muito mal atendida uando reclamei total descaso ,além de passsar mal com dog fui enganada entrei em contato com o ifood e eles tbm não resolveram ! O Dog dizia vir com 2,500kg e veio com 1,449 e ainda coca quente ! O sabor estava bom a principal só falei com o restaurante.. mas tarde comecei a passar muito mal ai entrei em contato com ifood pq além de ser [Editado pelo Reclame Aqui] ainda tô passando mal ! SOLICITO REEMBOLSO saiu caro e não veio como esperado\n",
            "Satisfação: Insatisfeito\n",
            "\n",
            "Texto do consumidor ('sair' para terminar): sair\n"
          ]
        }
      ]
    }
  ]
}